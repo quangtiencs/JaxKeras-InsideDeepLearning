{
 "cells": [
  {
   "cell_type": "code",
   "id": "initial_id",
   "metadata": {
    "collapsed": true,
    "ExecuteTime": {
     "end_time": "2024-09-23T16:43:08.789073Z",
     "start_time": "2024-09-23T16:43:07.738943Z"
    }
   },
   "source": [
    "import os\n",
    "\n",
    "os.environ[\"KERAS_BACKEND\"] = \"jax\"\n",
    "\n",
    "\n",
    "import numpy as np\n",
    "import matplotlib.pyplot as plt\n",
    "\n",
    "import jax.numpy as jnp\n",
    "import jax.random as jax_random\n",
    "import pandas as pd\n",
    "\n",
    "import keras\n",
    "from keras import models\n",
    "from keras import layers\n",
    "from keras import losses\n",
    "from keras import optimizers\n",
    "from keras import metrics \n",
    "from keras import ops"
   ],
   "outputs": [],
   "execution_count": 1
  },
  {
   "metadata": {
    "ExecuteTime": {
     "end_time": "2024-09-23T16:43:08.793941Z",
     "start_time": "2024-09-23T16:43:08.792291Z"
    }
   },
   "cell_type": "code",
   "source": "plt.set_loglevel(\"info\")",
   "id": "afa3f60f176e8a40",
   "outputs": [],
   "execution_count": 2
  },
  {
   "metadata": {
    "ExecuteTime": {
     "end_time": "2024-09-23T16:43:09.952035Z",
     "start_time": "2024-09-23T16:43:08.852927Z"
    }
   },
   "cell_type": "code",
   "source": [
    "import torchvision\n",
    "from torchvision import transforms\n",
    "from torch.utils.data import Dataset, DataLoader\n",
    "\n",
    "to_numpy_array = lambda img: np.array(img, dtype=np.float32) / 255.0\n",
    "\n",
    "mnist_data_train = torchvision.datasets.MNIST(\n",
    "    \"./data\",\n",
    "    train=True,\n",
    "    download=True,\n",
    "    transform=to_numpy_array,\n",
    ")\n",
    "mnist_data_test = torchvision.datasets.MNIST(\n",
    "    \"./data\",\n",
    "    train=False,\n",
    "    download=True,\n",
    "    transform=to_numpy_array,\n",
    ")\n",
    "x_example, y_example = mnist_data_train[0]"
   ],
   "id": "5f0058d074fc00a7",
   "outputs": [],
   "execution_count": 3
  },
  {
   "metadata": {
    "ExecuteTime": {
     "end_time": "2024-09-23T16:43:09.962571Z",
     "start_time": "2024-09-23T16:43:09.960358Z"
    }
   },
   "cell_type": "code",
   "source": [
    "B = 32\n",
    "mnist_train_loader = DataLoader(mnist_data_train, batch_size=B, shuffle=True)\n",
    "mnist_test_loader = DataLoader(mnist_data_test, batch_size=B)"
   ],
   "id": "4365d57d25384647",
   "outputs": [],
   "execution_count": 4
  },
  {
   "metadata": {
    "ExecuteTime": {
     "end_time": "2024-09-23T16:43:34.199113Z",
     "start_time": "2024-09-23T16:43:09.968181Z"
    }
   },
   "cell_type": "code",
   "source": [
    "#How many values are in the input? We use this to help determine the size of subsequent layers\n",
    "D = 28*28 #28 * 28 images \n",
    "#Hidden layer size\n",
    "n = 256 \n",
    "#How many channels are in the input?\n",
    "C = 1\n",
    "#How many classes are there?\n",
    "classes = 10\n",
    "x_shape = (28, 28)\n",
    "\n",
    "#Create our regular model \n",
    "model_regular =  models.Sequential(\n",
    "    [\n",
    "        layers.Input(shape=x_shape),\n",
    "        layers.Flatten(),\n",
    "        layers.Dense(n, activation=\"tanh\"),\n",
    "        layers.Dense(n, activation=\"tanh\"),\n",
    "        layers.Dense(n, activation=\"tanh\"),\n",
    "        layers.Dense(classes, activation=\"softmax\"),\n",
    "    ]\n",
    ")\n",
    "\n",
    "model_regular.compile(\n",
    "    optimizer=\"SGD\",\n",
    "    loss=losses.SparseCategoricalCrossentropy(),\n",
    "    metrics=[metrics.SparseCategoricalAccuracy()],\n",
    ")\n",
    "fc_results = model_regular.fit(mnist_train_loader, epochs=10)"
   ],
   "id": "a2225e22fb5bfef2",
   "outputs": [
    {
     "name": "stdout",
     "output_type": "stream",
     "text": [
      "Epoch 1/10\n",
      "\u001B[1m1875/1875\u001B[0m \u001B[32m━━━━━━━━━━━━━━━━━━━━\u001B[0m\u001B[37m\u001B[0m \u001B[1m3s\u001B[0m 1ms/step - loss: 0.7596 - sparse_categorical_accuracy: 0.7964\n",
      "Epoch 2/10\n",
      "\u001B[1m1875/1875\u001B[0m \u001B[32m━━━━━━━━━━━━━━━━━━━━\u001B[0m\u001B[37m\u001B[0m \u001B[1m2s\u001B[0m 1ms/step - loss: 0.3010 - sparse_categorical_accuracy: 0.9143\n",
      "Epoch 3/10\n",
      "\u001B[1m1875/1875\u001B[0m \u001B[32m━━━━━━━━━━━━━━━━━━━━\u001B[0m\u001B[37m\u001B[0m \u001B[1m2s\u001B[0m 1ms/step - loss: 0.2528 - sparse_categorical_accuracy: 0.9284\n",
      "Epoch 4/10\n",
      "\u001B[1m1875/1875\u001B[0m \u001B[32m━━━━━━━━━━━━━━━━━━━━\u001B[0m\u001B[37m\u001B[0m \u001B[1m2s\u001B[0m 1ms/step - loss: 0.2245 - sparse_categorical_accuracy: 0.9357\n",
      "Epoch 5/10\n",
      "\u001B[1m1875/1875\u001B[0m \u001B[32m━━━━━━━━━━━━━━━━━━━━\u001B[0m\u001B[37m\u001B[0m \u001B[1m2s\u001B[0m 1ms/step - loss: 0.1915 - sparse_categorical_accuracy: 0.9458\n",
      "Epoch 6/10\n",
      "\u001B[1m1875/1875\u001B[0m \u001B[32m━━━━━━━━━━━━━━━━━━━━\u001B[0m\u001B[37m\u001B[0m \u001B[1m3s\u001B[0m 2ms/step - loss: 0.1674 - sparse_categorical_accuracy: 0.9522\n",
      "Epoch 7/10\n",
      "\u001B[1m1875/1875\u001B[0m \u001B[32m━━━━━━━━━━━━━━━━━━━━\u001B[0m\u001B[37m\u001B[0m \u001B[1m2s\u001B[0m 1ms/step - loss: 0.1503 - sparse_categorical_accuracy: 0.9571\n",
      "Epoch 8/10\n",
      "\u001B[1m1875/1875\u001B[0m \u001B[32m━━━━━━━━━━━━━━━━━━━━\u001B[0m\u001B[37m\u001B[0m \u001B[1m2s\u001B[0m 1ms/step - loss: 0.1370 - sparse_categorical_accuracy: 0.9614\n",
      "Epoch 9/10\n",
      "\u001B[1m1875/1875\u001B[0m \u001B[32m━━━━━━━━━━━━━━━━━━━━\u001B[0m\u001B[37m\u001B[0m \u001B[1m2s\u001B[0m 1ms/step - loss: 0.1246 - sparse_categorical_accuracy: 0.9643\n",
      "Epoch 10/10\n",
      "\u001B[1m1875/1875\u001B[0m \u001B[32m━━━━━━━━━━━━━━━━━━━━\u001B[0m\u001B[37m\u001B[0m \u001B[1m2s\u001B[0m 1ms/step - loss: 0.1151 - sparse_categorical_accuracy: 0.9674\n"
     ]
    }
   ],
   "execution_count": 5
  },
  {
   "metadata": {
    "ExecuteTime": {
     "end_time": "2024-09-23T16:43:56.708791Z",
     "start_time": "2024-09-23T16:43:34.205497Z"
    }
   },
   "cell_type": "code",
   "source": [
    "#Create our regular model \n",
    "h2_layer = layers.Dense(n, activation=\"tanh\")\n",
    "model_shared =  models.Sequential(\n",
    "    [\n",
    "        layers.Input(shape=x_shape),\n",
    "        layers.Flatten(),\n",
    "        layers.Dense(n, activation=\"tanh\"),\n",
    "        h2_layer,\n",
    "        h2_layer,\n",
    "        layers.Dense(classes, activation=\"softmax\"),\n",
    "    ]\n",
    ")\n",
    "\n",
    "model_shared.compile(\n",
    "    optimizer=\"SGD\",\n",
    "    loss=losses.SparseCategoricalCrossentropy(),\n",
    "    metrics=[metrics.SparseCategoricalAccuracy()],\n",
    ")\n",
    "fc_shared_result = model_shared.fit(mnist_train_loader, epochs=10)"
   ],
   "id": "aa6392de3a2c1d65",
   "outputs": [
    {
     "name": "stdout",
     "output_type": "stream",
     "text": [
      "Epoch 1/10\n",
      "\u001B[1m1875/1875\u001B[0m \u001B[32m━━━━━━━━━━━━━━━━━━━━\u001B[0m\u001B[37m\u001B[0m \u001B[1m2s\u001B[0m 1ms/step - loss: 0.7725 - sparse_categorical_accuracy: 0.7939\n",
      "Epoch 2/10\n",
      "\u001B[1m1875/1875\u001B[0m \u001B[32m━━━━━━━━━━━━━━━━━━━━\u001B[0m\u001B[37m\u001B[0m \u001B[1m2s\u001B[0m 1ms/step - loss: 0.2958 - sparse_categorical_accuracy: 0.9147\n",
      "Epoch 3/10\n",
      "\u001B[1m1875/1875\u001B[0m \u001B[32m━━━━━━━━━━━━━━━━━━━━\u001B[0m\u001B[37m\u001B[0m \u001B[1m2s\u001B[0m 1ms/step - loss: 0.2523 - sparse_categorical_accuracy: 0.9266\n",
      "Epoch 4/10\n",
      "\u001B[1m1875/1875\u001B[0m \u001B[32m━━━━━━━━━━━━━━━━━━━━\u001B[0m\u001B[37m\u001B[0m \u001B[1m2s\u001B[0m 1ms/step - loss: 0.2161 - sparse_categorical_accuracy: 0.9379\n",
      "Epoch 5/10\n",
      "\u001B[1m1875/1875\u001B[0m \u001B[32m━━━━━━━━━━━━━━━━━━━━\u001B[0m\u001B[37m\u001B[0m \u001B[1m2s\u001B[0m 1ms/step - loss: 0.1912 - sparse_categorical_accuracy: 0.9449\n",
      "Epoch 6/10\n",
      "\u001B[1m1875/1875\u001B[0m \u001B[32m━━━━━━━━━━━━━━━━━━━━\u001B[0m\u001B[37m\u001B[0m \u001B[1m2s\u001B[0m 1ms/step - loss: 0.1677 - sparse_categorical_accuracy: 0.9517\n",
      "Epoch 7/10\n",
      "\u001B[1m1875/1875\u001B[0m \u001B[32m━━━━━━━━━━━━━━━━━━━━\u001B[0m\u001B[37m\u001B[0m \u001B[1m2s\u001B[0m 1ms/step - loss: 0.1528 - sparse_categorical_accuracy: 0.9561\n",
      "Epoch 8/10\n",
      "\u001B[1m1875/1875\u001B[0m \u001B[32m━━━━━━━━━━━━━━━━━━━━\u001B[0m\u001B[37m\u001B[0m \u001B[1m2s\u001B[0m 1ms/step - loss: 0.1358 - sparse_categorical_accuracy: 0.9614\n",
      "Epoch 9/10\n",
      "\u001B[1m1875/1875\u001B[0m \u001B[32m━━━━━━━━━━━━━━━━━━━━\u001B[0m\u001B[37m\u001B[0m \u001B[1m2s\u001B[0m 1ms/step - loss: 0.1245 - sparse_categorical_accuracy: 0.9645\n",
      "Epoch 10/10\n",
      "\u001B[1m1875/1875\u001B[0m \u001B[32m━━━━━━━━━━━━━━━━━━━━\u001B[0m\u001B[37m\u001B[0m \u001B[1m2s\u001B[0m 1ms/step - loss: 0.1160 - sparse_categorical_accuracy: 0.9664\n"
     ]
    }
   ],
   "execution_count": 6
  },
  {
   "metadata": {
    "ExecuteTime": {
     "end_time": "2024-09-23T16:43:56.818802Z",
     "start_time": "2024-09-23T16:43:56.716476Z"
    }
   },
   "cell_type": "code",
   "source": [
    "pd.DataFrame(\n",
    "    {\n",
    "        \"epochs\": np.arange(1, 11, 1),\n",
    "        \"normal\": fc_results.history[\n",
    "            \"sparse_categorical_accuracy\"\n",
    "        ],\n",
    "        \"shared weight\": fc_shared_result.history[\n",
    "            \"sparse_categorical_accuracy\"\n",
    "        ],\n",
    "    }\n",
    ").set_index(\"epochs\").plot(ylabel=\"Accuracy\")"
   ],
   "id": "707da02f0150f0bb",
   "outputs": [
    {
     "data": {
      "text/plain": [
       "<Axes: xlabel='epochs', ylabel='Accuracy'>"
      ]
     },
     "execution_count": 7,
     "metadata": {},
     "output_type": "execute_result"
    },
    {
     "data": {
      "text/plain": [
       "<Figure size 640x480 with 1 Axes>"
      ],
      "image/png": "[encoded data removed]"
     },
     "metadata": {},
     "output_type": "display_data"
    }
   ],
   "execution_count": 7
  },
  {
   "metadata": {
    "ExecuteTime": {
     "end_time": "2024-09-23T16:43:57.265010Z",
     "start_time": "2024-09-23T16:43:56.826461Z"
    }
   },
   "cell_type": "code",
   "source": [
    "zip_file_url = \"https://download.pytorch.org/tutorial/data.zip\"\n",
    "\n",
    "import requests, zipfile, io\n",
    "r = requests.get(zip_file_url)\n",
    "z = zipfile.ZipFile(io.BytesIO(r.content))\n",
    "z.extractall()\n",
    "\n",
    "#Zip file is organized as data/names/[LANG].txt , where [LANG] is a specific language"
   ],
   "id": "587475b2446af9a9",
   "outputs": [],
   "execution_count": 8
  },
  {
   "metadata": {
    "ExecuteTime": {
     "end_time": "2024-09-23T16:43:57.294192Z",
     "start_time": "2024-09-23T16:43:57.271422Z"
    }
   },
   "cell_type": "code",
   "source": [
    "namge_language_data = {}\n",
    "\n",
    "#We will use some code to remove UNICODE tokens to make life easy for us processing wise\n",
    "#e.g., convert something like \"Ślusàrski\" to Slusarski\n",
    "import unicodedata\n",
    "import string\n",
    "\n",
    "all_letters = string.ascii_letters + \" .,;'\"\n",
    "n_letters = len(all_letters)\n",
    "alphabet = {}\n",
    "for i in range(n_letters):\n",
    "    alphabet[all_letters[i]] = i\n",
    "    \n",
    "# Turn a Unicode string to plain ASCII, thanks to https://stackoverflow.com/a/518232/2809427\n",
    "def unicodeToAscii(s):\n",
    "    return ''.join(\n",
    "        c for c in unicodedata.normalize('NFD', s)\n",
    "        if unicodedata.category(c) != 'Mn'\n",
    "        and c in all_letters\n",
    "    )\n",
    "\n",
    "#Loop through every language, open the zip file entry, and read all the lines from the text file. \n",
    "for zip_path in z.namelist():\n",
    "    if \"data/names/\" in zip_path and zip_path.endswith(\".txt\"):\n",
    "        lang = zip_path[len(\"data/names/\"):-len(\".txt\")]\n",
    "        with z.open(zip_path) as myfile:\n",
    "            lang_names = [unicodeToAscii(line).lower() for line in str(myfile.read(), encoding='utf-8').strip().split(\"\\n\")]\n",
    "            namge_language_data[lang] = lang_names\n",
    "        print(lang, \": \", len(lang_names)) #Print out the name of each language too. "
   ],
   "id": "71fcbeceb44ee295",
   "outputs": [
    {
     "name": "stdout",
     "output_type": "stream",
     "text": [
      "Arabic :  2000\n",
      "Chinese :  268\n",
      "Czech :  519\n",
      "Dutch :  297\n",
      "English :  3668\n",
      "French :  277\n",
      "German :  724\n",
      "Greek :  203\n",
      "Irish :  232\n",
      "Italian :  709\n",
      "Japanese :  991\n",
      "Korean :  94\n",
      "Polish :  139\n",
      "Portuguese :  74\n",
      "Russian :  9408\n",
      "Scottish :  100\n",
      "Spanish :  298\n",
      "Vietnamese :  73\n"
     ]
    }
   ],
   "execution_count": 9
  },
  {
   "metadata": {
    "ExecuteTime": {
     "end_time": "2024-09-23T16:43:57.303059Z",
     "start_time": "2024-09-23T16:43:57.300353Z"
    }
   },
   "cell_type": "code",
   "source": [
    "class LanguageNameDataset(Dataset):\n",
    "    \n",
    "    def __init__(self, lang_name_dict, vocabulary):\n",
    "        self.label_names = [x for x in lang_name_dict.keys()]\n",
    "        self.data = []\n",
    "        self.labels = []\n",
    "        self.vocabulary = vocabulary\n",
    "        for y, language in enumerate(self.label_names):\n",
    "            for sample in lang_name_dict[language]:\n",
    "                self.data.append(sample)\n",
    "                self.labels.append(y)\n",
    "        \n",
    "    def __len__(self):\n",
    "        return len(self.data)\n",
    "    \n",
    "    def string2InputVec(self, input_string):\n",
    "        \"\"\"\n",
    "        This method will convert any input string into a vector of long values, according to the vocabulary used by this object. \n",
    "        input_string: the string to convert to a tensor\n",
    "        \"\"\"\n",
    "        T = len(input_string) #How many characters long is the string?\n",
    "        \n",
    "        #Create a new tensor to store the result in\n",
    "        name_vec = np.zeros((T), dtype=np.long)\n",
    "        #iterate through the string and place the appropriate values into the tensor\n",
    "        for pos, character in enumerate(input_string):\n",
    "            name_vec[pos] = self.vocabulary[character]\n",
    "            \n",
    "        return name_vec\n",
    "    \n",
    "    def __getitem__(self, idx):\n",
    "        name = self.data[idx]\n",
    "        label = self.labels[idx]\n",
    "        \n",
    "        #Conver the correct class label into a tensor for PyTorch\n",
    "        label_vec = np.array([label], dtype=np.long)\n",
    "        \n",
    "        return self.string2InputVec(name), label"
   ],
   "id": "9254d92b809ce90",
   "outputs": [],
   "execution_count": 10
  },
  {
   "metadata": {
    "ExecuteTime": {
     "end_time": "2024-09-23T16:43:57.311032Z",
     "start_time": "2024-09-23T16:43:57.308527Z"
    }
   },
   "cell_type": "code",
   "source": [
    "import torch\n",
    "\n",
    "dataset = LanguageNameDataset(namge_language_data, alphabet)\n",
    "\n",
    "train_data, test_data = torch.utils.data.random_split(dataset, (len(dataset)-300, 300))\n",
    "train_loader = DataLoader(train_data, batch_size=1, shuffle=True)\n",
    "test_loader = DataLoader(test_data, batch_size=1, shuffle=False)"
   ],
   "id": "bbd9c8e943616e51",
   "outputs": [],
   "execution_count": 11
  },
  {
   "metadata": {
    "ExecuteTime": {
     "end_time": "2024-09-23T16:43:57.375256Z",
     "start_time": "2024-09-23T16:43:57.317069Z"
    }
   },
   "cell_type": "code",
   "source": [
    "input_sequence = np.array([0, 1, 1, 0, 2], dtype=np.long)\n",
    "embeding_layer = layers.Embedding(3, 2)\n",
    "x_seq = embeding_layer(input_sequence)\n",
    "print(input_sequence.shape, x_seq.shape)"
   ],
   "id": "7fde3e449e5f447d",
   "outputs": [
    {
     "name": "stdout",
     "output_type": "stream",
     "text": [
      "(5,) (5, 2)\n"
     ]
    }
   ],
   "execution_count": 12
  },
  {
   "metadata": {
    "ExecuteTime": {
     "end_time": "2024-09-23T16:43:57.383021Z",
     "start_time": "2024-09-23T16:43:57.381324Z"
    }
   },
   "cell_type": "code",
   "source": [
    "D = 64\n",
    "vocab_size = len(all_letters)\n",
    "hidden_nodes = 256\n",
    "classes = len(dataset.label_names)"
   ],
   "id": "a2014630d968b833",
   "outputs": [],
   "execution_count": 13
  },
  {
   "metadata": {
    "ExecuteTime": {
     "end_time": "2024-09-23T16:43:57.390213Z",
     "start_time": "2024-09-23T16:43:57.388885Z"
    }
   },
   "cell_type": "code",
   "source": [
    "# first_rnn = nn.Sequential(\n",
    "#   nn.Embedding(vocab_size, D), #(B, T) -> (B, T, D)\n",
    "#   nn.RNN(D, hidden_nodes, batch_first=True), #(B, T, D) -> ( (B,T,D) , (S, B, D)  )\n",
    "#   #the tanh activation is built into the RNN object, so we don't need to do it here\n",
    "#   LastTimeStep(), #We need to take the RNN output and reduce it to one item, (B, D)\n",
    "#   nn.Linear(hidden_nodes, classes), #(B, D) -> (B, classes)\n",
    "# )"
   ],
   "id": "d794bed668b5c963",
   "outputs": [],
   "execution_count": 14
  },
  {
   "metadata": {
    "ExecuteTime": {
     "end_time": "2024-09-23T16:43:57.399319Z",
     "start_time": "2024-09-23T16:43:57.396169Z"
    }
   },
   "cell_type": "code",
   "source": [
    "class MinimalRNNCell(keras.layers.Layer):\n",
    "\n",
    "    def __init__(self, units, **kwargs):\n",
    "        super().__init__(**kwargs)\n",
    "        self.units = units\n",
    "        self.state_size = units\n",
    "\n",
    "    def build(self, input_shape):\n",
    "        self.kernel = self.add_weight(shape=(input_shape[-1], self.units),\n",
    "                                      initializer='uniform',\n",
    "                                      name='kernel')\n",
    "        self.recurrent_kernel = self.add_weight(\n",
    "            shape=(self.units, self.units),\n",
    "            initializer='uniform',\n",
    "            name='recurrent_kernel')\n",
    "        self.built = True\n",
    "\n",
    "    def call(self, inputs, states):\n",
    "        prev_output = states[0]\n",
    "        h = ops.matmul(inputs, self.kernel)\n",
    "        output = h + ops.matmul(prev_output, self.recurrent_kernel)\n",
    "        return output, [output]\n",
    "\n",
    "first_rnn = models.Sequential([\n",
    "  layers.Embedding(vocab_size, D),\n",
    "  layers.RNN(cell=[MinimalRNNCell(hidden_nodes)],return_sequences=False, return_state=False),\n",
    "  layers.Dense( classes, activation=\"softmax\"), #(B, D) -> (B, classes)\n",
    "])"
   ],
   "id": "eaa65114fd64fb89",
   "outputs": [],
   "execution_count": 15
  },
  {
   "metadata": {
    "ExecuteTime": {
     "end_time": "2024-09-23T16:45:31.489491Z",
     "start_time": "2024-09-23T16:43:57.473740Z"
    }
   },
   "cell_type": "code",
   "source": [
    "first_rnn.compile(\n",
    "    optimizer=\"SGD\",\n",
    "    loss=losses.SparseCategoricalCrossentropy(),\n",
    "    metrics=[metrics.SparseCategoricalAccuracy()],\n",
    ")\n",
    "first_rnn_result = first_rnn.fit(train_loader, epochs=10)"
   ],
   "id": "afc023f562da9352",
   "outputs": [
    {
     "name": "stdout",
     "output_type": "stream",
     "text": [
      "Epoch 1/10\n",
      "\u001B[1m19774/19774\u001B[0m \u001B[32m━━━━━━━━━━━━━━━━━━━━\u001B[0m\u001B[37m\u001B[0m \u001B[1m13s\u001B[0m 629us/step - loss: 1.5083 - sparse_categorical_accuracy: 0.5726\n",
      "Epoch 2/10\n",
      "\u001B[1m19774/19774\u001B[0m \u001B[32m━━━━━━━━━━━━━━━━━━━━\u001B[0m\u001B[37m\u001B[0m \u001B[1m9s\u001B[0m 453us/step - loss: 1.0686 - sparse_categorical_accuracy: 0.6753\n",
      "Epoch 3/10\n",
      "\u001B[1m19774/19774\u001B[0m \u001B[32m━━━━━━━━━━━━━━━━━━━━\u001B[0m\u001B[37m\u001B[0m \u001B[1m9s\u001B[0m 447us/step - loss: 1.0292 - sparse_categorical_accuracy: 0.6837\n",
      "Epoch 4/10\n",
      "\u001B[1m19774/19774\u001B[0m \u001B[32m━━━━━━━━━━━━━━━━━━━━\u001B[0m\u001B[37m\u001B[0m \u001B[1m9s\u001B[0m 458us/step - loss: 1.0231 - sparse_categorical_accuracy: 0.6819\n",
      "Epoch 5/10\n",
      "\u001B[1m19774/19774\u001B[0m \u001B[32m━━━━━━━━━━━━━━━━━━━━\u001B[0m\u001B[37m\u001B[0m \u001B[1m9s\u001B[0m 448us/step - loss: 1.0049 - sparse_categorical_accuracy: 0.6849\n",
      "Epoch 6/10\n",
      "\u001B[1m19774/19774\u001B[0m \u001B[32m━━━━━━━━━━━━━━━━━━━━\u001B[0m\u001B[37m\u001B[0m \u001B[1m9s\u001B[0m 448us/step - loss: 0.9937 - sparse_categorical_accuracy: 0.6908\n",
      "Epoch 7/10\n",
      "\u001B[1m19774/19774\u001B[0m \u001B[32m━━━━━━━━━━━━━━━━━━━━\u001B[0m\u001B[37m\u001B[0m \u001B[1m9s\u001B[0m 447us/step - loss: 1.0014 - sparse_categorical_accuracy: 0.6861\n",
      "Epoch 8/10\n",
      "\u001B[1m19774/19774\u001B[0m \u001B[32m━━━━━━━━━━━━━━━━━━━━\u001B[0m\u001B[37m\u001B[0m \u001B[1m9s\u001B[0m 448us/step - loss: 1.0081 - sparse_categorical_accuracy: 0.6828\n",
      "Epoch 9/10\n",
      "\u001B[1m19774/19774\u001B[0m \u001B[32m━━━━━━━━━━━━━━━━━━━━\u001B[0m\u001B[37m\u001B[0m \u001B[1m9s\u001B[0m 452us/step - loss: 1.0130 - sparse_categorical_accuracy: 0.6825\n",
      "Epoch 10/10\n",
      "\u001B[1m19774/19774\u001B[0m \u001B[32m━━━━━━━━━━━━━━━━━━━━\u001B[0m\u001B[37m\u001B[0m \u001B[1m9s\u001B[0m 456us/step - loss: 1.0087 - sparse_categorical_accuracy: 0.6828\n"
     ]
    }
   ],
   "execution_count": 16
  },
  {
   "metadata": {
    "ExecuteTime": {
     "end_time": "2024-09-23T16:45:31.546719Z",
     "start_time": "2024-09-23T16:45:31.496002Z"
    }
   },
   "cell_type": "code",
   "source": [
    "pd.DataFrame({\n",
    "    \"acc\": first_rnn_result.history[\"sparse_categorical_accuracy\"],\n",
    "}).plot()"
   ],
   "id": "29bddef2fcab1809",
   "outputs": [
    {
     "data": {
      "text/plain": [
       "<Axes: >"
      ]
     },
     "execution_count": 17,
     "metadata": {},
     "output_type": "execute_result"
    },
    {
     "data": {
      "text/plain": [
       "<Figure size 640x480 with 1 Axes>"
      ],
      "image/png": "[encoded data removed]"
     },
     "metadata": {},
     "output_type": "display_data"
    }
   ],
   "execution_count": 17
  },
  {
   "metadata": {
    "ExecuteTime": {
     "end_time": "2024-09-23T16:45:31.555629Z",
     "start_time": "2024-09-23T16:45:31.554100Z"
    }
   },
   "cell_type": "code",
   "source": "",
   "id": "56e303712134897a",
   "outputs": [],
   "execution_count": null
  }
 ],
 "metadata": {
  "kernelspec": {
   "display_name": "Python 3",
   "language": "python",
   "name": "python3"
  },
  "language_info": {
   "codemirror_mode": {
    "name": "ipython",
    "version": 2
   },
   "file_extension": ".py",
   "mimetype": "text/x-python",
   "name": "python",
   "nbconvert_exporter": "python",
   "pygments_lexer": "ipython2",
   "version": "2.7.6"
  }
 },
 "nbformat": 4,
 "nbformat_minor": 5
}
